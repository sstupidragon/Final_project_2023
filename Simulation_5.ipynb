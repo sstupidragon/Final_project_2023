{
 "cells": [
  {
   "cell_type": "code",
   "execution_count": 40,
   "metadata": {},
   "outputs": [],
   "source": [
    "import numpy as np\n",
    "from scipy import stats \n",
    "import math\n",
    "import torch\n",
    "import torch.nn as nn\n",
    "from sklearn.decomposition import PCA\n",
    "from scipy.linalg import orth\n",
    "import matplotlib.pyplot as plt\n",
    "from sklearn.model_selection import KFold\n",
    "from sklearn.preprocessing import OneHotEncoder\n",
    "# Device\n",
    "import os\n",
    "os.environ[\"CUDA_VISIBLE_DEVICES\"] = '0'\n",
    "#FloatTensor\n",
    "#DoubleTensor\n",
    "dtype = torch.cuda.FloatTensor"
   ]
  },
  {
   "cell_type": "markdown",
   "metadata": {},
   "source": [
    "Generate_data"
   ]
  },
  {
   "cell_type": "code",
   "execution_count": 41,
   "metadata": {},
   "outputs": [],
   "source": [
    "\n",
    "def generate_data(R,n,d,big_sigma_squared,sigma_z,N):\n",
    "    c=np.random.normal(loc=0, scale=1.0, size=[d,N])\n",
    "    z=np.random.normal(loc=0, scale=sigma_z, size=[n,N])\n",
    "    U=orth(np.random.normal(loc=0, scale=1, size=[n,d]))\n",
    "    L=np.random.choice([-1,1],N)\n",
    "    L=L.reshape(L.shape[0],1)     \n",
    "    if R==None:\n",
    "        R=1\n",
    "\n",
    "    mu=R*U[:,0]\n",
    "    mu=mu.reshape(mu.shape[0],1)\n",
    "                \n",
    "    U=U@big_sigma_squared\n",
    "    X=U@c+mu@L.T \n",
    "    Y=X+z\n",
    "\n",
    "    U = torch.from_numpy(U).type(dtype)\n",
    "    X = torch.from_numpy(X).type(dtype)\n",
    "    Y = torch.from_numpy(Y).type(dtype)\n",
    "    L = torch.from_numpy(L).type(dtype)\n",
    "    mu = torch.from_numpy(mu).type(dtype)\n",
    "    \n",
    "    return X,Y,U,L,mu"
   ]
  },
  {
   "cell_type": "markdown",
   "metadata": {},
   "source": [
    "Compute the risk for a given estimator W subspace u ,distance mu and noise statistics sigma_z."
   ]
  },
  {
   "cell_type": "code",
   "execution_count": 42,
   "metadata": {},
   "outputs": [],
   "source": [
    "def test_risk_1(n,d,W,U,sigma_z,mu):    \n",
    "    risk = torch.linalg.norm( (W - torch.eye(n).type(dtype)) @ U ,'fro')**2 + sigma_z**2 * torch.linalg.norm(W,'fro')**2+ torch.linalg.norm( (W- torch.eye(n).type(dtype)) @ mu )**2\n",
    "    # \n",
    "    return risk/d"
   ]
  },
  {
   "cell_type": "code",
   "execution_count": 43,
   "metadata": {},
   "outputs": [],
   "source": [
    "def test_risk_2 (mu,W1,W2,U,sigma_z):    \n",
    "    a = (torch.norm(W2@W1@U)**2+torch.norm(sigma_z*(W2@W1)**2)).item()\n",
    "    a=np.sqrt(a)    \n",
    "    b = (W2@W1@mu).item()\n",
    "    risk=0.5*(1-stats.norm.cdf(b,loc=0,scale=a)) + 0.5*(stats.norm.cdf(-b,loc=0,scale=a))\n",
    "    return risk"
   ]
  },
  {
   "cell_type": "code",
   "execution_count": 44,
   "metadata": {},
   "outputs": [],
   "source": [
    "n=1000\n",
    "d=20\n",
    "train_R=np.linspace(0.5,5,10)\n",
    "alpha1=0.4\n",
    "big_sigma_squared=np.eye(d)\n",
    "sigma_z=0.1\n",
    "N = 100\n",
    "#train_R= range(1,200,20)\n",
    "runs=5\n",
    "\n"
   ]
  },
  {
   "cell_type": "code",
   "execution_count": 45,
   "metadata": {},
   "outputs": [
    {
     "name": "stdout",
     "output_type": "stream",
     "text": [
      "**********run 0**********\n",
      "*****training size (N) = 100*****\n"
     ]
    },
    {
     "name": "stdout",
     "output_type": "stream",
     "text": [
      "*****training size (N) = 100*****\n",
      "*****training size (N) = 100*****\n",
      "*****training size (N) = 100*****\n",
      "*****training size (N) = 100*****\n",
      "*****training size (N) = 100*****\n",
      "*****training size (N) = 100*****\n",
      "*****training size (N) = 100*****\n",
      "*****training size (N) = 100*****\n",
      "*****training size (N) = 100*****\n",
      "**********run 1**********\n",
      "*****training size (N) = 100*****\n",
      "*****training size (N) = 100*****\n",
      "*****training size (N) = 100*****\n",
      "*****training size (N) = 100*****\n",
      "*****training size (N) = 100*****\n",
      "*****training size (N) = 100*****\n",
      "*****training size (N) = 100*****\n",
      "*****training size (N) = 100*****\n",
      "*****training size (N) = 100*****\n",
      "*****training size (N) = 100*****\n",
      "**********run 2**********\n",
      "*****training size (N) = 100*****\n",
      "*****training size (N) = 100*****\n",
      "*****training size (N) = 100*****\n",
      "*****training size (N) = 100*****\n",
      "*****training size (N) = 100*****\n",
      "*****training size (N) = 100*****\n",
      "*****training size (N) = 100*****\n",
      "*****training size (N) = 100*****\n",
      "*****training size (N) = 100*****\n",
      "*****training size (N) = 100*****\n",
      "**********run 3**********\n",
      "*****training size (N) = 100*****\n",
      "*****training size (N) = 100*****\n",
      "*****training size (N) = 100*****\n",
      "*****training size (N) = 100*****\n",
      "*****training size (N) = 100*****\n",
      "*****training size (N) = 100*****\n",
      "*****training size (N) = 100*****\n",
      "*****training size (N) = 100*****\n",
      "*****training size (N) = 100*****\n",
      "*****training size (N) = 100*****\n",
      "**********run 4**********\n",
      "*****training size (N) = 100*****\n",
      "*****training size (N) = 100*****\n",
      "*****training size (N) = 100*****\n",
      "*****training size (N) = 100*****\n",
      "*****training size (N) = 100*****\n",
      "*****training size (N) = 100*****\n",
      "*****training size (N) = 100*****\n",
      "*****training size (N) = 100*****\n",
      "*****training size (N) = 100*****\n",
      "*****training size (N) = 100*****\n"
     ]
    }
   ],
   "source": [
    "\n",
    "learn_results = {'test_l':np.zeros([runs,len(train_R)]),'test_l2':np.zeros([runs,len(train_R)]),'test_l3':np.zeros([runs,len(train_R)]),'test_l4':np.zeros([runs,len(train_R)])}\n",
    "opt=np.zeros([runs,len(train_R)])\n",
    "for r in range(runs):\n",
    "    print(\"**********run {}**********\".format(r))\n",
    "    for i,R in enumerate(train_R):\n",
    "        print(\"*****training size (d) = {}*****\".format(d))\n",
    "        X,Y,U,L,mu = generate_data(R,n,d,big_sigma_squared,sigma_z,N)\n",
    "        alpha1=1/N\n",
    "        L=L.T\n",
    "        Xpi=torch.pinverse(X)\n",
    "        Ypi=torch.pinverse(Y)\n",
    "        Lpi=torch.pinverse(L)\n",
    "\n",
    "        W1=X@Ypi\n",
    "        a1=test_risk_1(n,d,W1,U,sigma_z,mu)  \n",
    "        \n",
    "        W1=alpha1*N*Xpi.T@Xpi+(1-alpha1)*torch.eye(n).type(dtype)\n",
    "        W1=torch.pinverse(W1)@(alpha1* N*(Xpi.T@Ypi) + (1-alpha1)* (X@Ypi))\n",
    "        #@Y.T@torch.pinverse(X@Y.T)\n",
    "        #W2=torch.pinverse(W2)\n",
    "        #W2=W2@L@Ypi\n",
    "        a2=test_risk_1(n,d,W1,U,sigma_z,mu)\n",
    "\n",
    "        #  torch.linalg.inv    torch.pinverse\n",
    "        #W3= (U@U.T+mu@mu.T) @   torch.pinverse(U@U.T+mu@mu.T+(sigma_z**2*torch.eye(n).type(dtype)))\n",
    "        #W3=(1/(1+sigma_z**2))*U@U.T+ ((1+R**2)/(1+sigma_z**2+R**2)-(1/(1+sigma_z**2)))*mu@mu.T\n",
    "        #a3=torch.linalg.norm( (mu@mu.T - torch.eye(n).type(dtype)) @ U ,'fro')**2/d + (n+R**2)/d*sigma_z**2 + torch.linalg.norm( (U@U.T - torch.eye(n).type(dtype)) @ mu ,'fro')**2/d\n",
    "        #'''\n",
    "        b=((1+R**2)*(1+sigma_z**2)-(1+sigma_z**2+R**2))/((1/(1+sigma_z**2))*(1+sigma_z**2+R**2))\n",
    "        c=sigma_z**2/(1+sigma_z**2)\n",
    "        a3=(b-c)**2+sigma_z**2*((1+R**2)/(1+R**2+sigma_z**2))**2+(d-1)*c+(sigma_z**2*R/(1+sigma_z**2+R**2))**2\n",
    "        a3=a3/d\n",
    "        #'''\n",
    "        #a3=test_risk_1(n,d,W3,U,sigma_z,mu)\n",
    "\n",
    "        a4=test_risk_2 (mu,torch.eye(n).type(dtype),L@torch.pinverse(X@Ypi@Y),U,sigma_z)\n",
    "        a5=test_risk_2 (mu,torch.eye(n).type(dtype),L@Ypi,U,sigma_z)\n",
    "        \n",
    "\n",
    "        opt[r,i]= a3\n",
    "        learn_results['test_l'][r,i] = a1\n",
    "        learn_results['test_l2'][r,i] = a2\n",
    "        learn_results['test_l3'][r,i] = a4\n",
    "        learn_results['test_l4'][r,i] = a5\n",
    "\n",
    "results1m=learn_results['test_l'].mean(0)\n",
    "results1s=learn_results['test_l'].std(0)\n",
    "results2m=learn_results['test_l2'].mean(0)\n",
    "results2s=learn_results['test_l2'].std(0)\n",
    "results3m=learn_results['test_l3'].mean(0)\n",
    "results3s=learn_results['test_l3'].std(0)\n",
    "results4m=learn_results['test_l4'].mean(0)\n",
    "results4s=learn_results['test_l4'].std(0)"
   ]
  },
  {
   "cell_type": "code",
   "execution_count": 46,
   "metadata": {},
   "outputs": [
    {
     "data": {
      "image/png": "[encoded data removed]",
      "text/plain": [
       "<Figure size 864x432 with 1 Axes>"
      ]
     },
     "metadata": {
      "needs_background": "light"
     },
     "output_type": "display_data"
    }
   ],
   "source": [
    "fontsize = 22\n",
    "\n",
    "fig = plt.figure(figsize=(12,6))\n",
    "al=0.8\n",
    "ax = fig.add_subplot(111)\n",
    "\n",
    "ax.errorbar(train_R, opt.mean(0), yerr=opt.std(0), color='b', fmt=\"-o\",alpha=al,label=r\"$opt$\", capsize=5)\n",
    "ax.errorbar(train_R, results1m, yerr=results1s, color='g', fmt=\"-o\",alpha=al,label=r\"$denoiser$\", capsize=5)\n",
    "ax.errorbar(train_R, results2m, yerr=results2s, color='r', fmt=\"-o\",alpha=al,label=r\"$mutli$\", capsize=5)\n",
    "\n",
    "ax.set_xlabel(\" $R$\", fontsize=fontsize)\n",
    "ax.set_ylabel(r\"Test risk $R(W)$\", fontsize=fontsize)\n",
    "ax.legend(fontsize=fontsize)\n",
    "ax.set_title('$\\sigma_z=${}, $n=${}, $d=${},$N=${}'.format(sigma_z,n,d,N), fontsize=fontsize)\n",
    "ax.tick_params(axis='x', labelsize=fontsize-2 ) \n",
    "ax.tick_params(axis='y', labelsize=fontsize-2 ) \n",
    "base =10\n",
    "ax.set_yscale('log')\n",
    "\n",
    "#ax.set_xscale('log')\n",
    "#ax.set_ylim([0,20])\n",
    "\n",
    "plt.grid()\n",
    "plt.show()"
   ]
  },
  {
   "cell_type": "code",
   "execution_count": 47,
   "metadata": {},
   "outputs": [
    {
     "data": {
      "image/png": "[encoded data removed]",
      "text/plain": [
       "<Figure size 864x432 with 1 Axes>"
      ]
     },
     "metadata": {
      "needs_background": "light"
     },
     "output_type": "display_data"
    }
   ],
   "source": [
    "fontsize = 22\n",
    "\n",
    "fig = plt.figure(figsize=(12,6))\n",
    "al=0.8\n",
    "ax = fig.add_subplot(111)\n",
    "\n",
    "\n",
    "ax.errorbar(train_R, results3m, yerr=results3s, color='r', fmt=\"-o\",alpha=al,label=r\"$mutli$\", capsize=5)\n",
    "ax.errorbar(train_R, results4m, yerr=results4s, color='g', fmt=\"-o\",alpha=al,label=r\"$only$\", capsize=5)\n",
    "\n",
    "ax.set_xlabel(\" $R$\", fontsize=fontsize)\n",
    "ax.set_ylabel(r\"Test risk $R(W)$\", fontsize=fontsize)\n",
    "ax.legend(fontsize=fontsize)\n",
    "ax.set_title('$\\sigma_z=${}, $n=${}, $d=${},$N=${}'.format(sigma_z,n,d,N), fontsize=fontsize)\n",
    "ax.tick_params(axis='x', labelsize=fontsize-2 ) \n",
    "ax.tick_params(axis='y', labelsize=fontsize-2 ) \n",
    "base =10\n",
    "#ax.set_yscale('log')\n",
    "\n",
    "#ax.set_xscale('log')\n",
    "ax.set_ylim([0,0.5])\n",
    "\n",
    "plt.grid()\n",
    "plt.show()"
   ]
  },
  {
   "cell_type": "code",
   "execution_count": 48,
   "metadata": {},
   "outputs": [
    {
     "data": {
      "text/plain": [
       "array([0.49999996, 0.49999984, 0.49999963, 0.49999953, 0.49999943,\n",
       "       0.49999928, 0.49999865, 0.49999876, 0.49999848, 0.49999857])"
      ]
     },
     "execution_count": 48,
     "metadata": {},
     "output_type": "execute_result"
    }
   ],
   "source": [
    "results3m"
   ]
  },
  {
   "cell_type": "code",
   "execution_count": 49,
   "metadata": {},
   "outputs": [
    {
     "data": {
      "text/plain": [
       "array([4.16800276e-01, 2.63612175e-01, 1.60536243e-01, 8.41496101e-02,\n",
       "       4.73162749e-02, 2.25533909e-02, 8.25643260e-03, 2.46493198e-03,\n",
       "       7.98501300e-04, 2.54103948e-04])"
      ]
     },
     "execution_count": 49,
     "metadata": {},
     "output_type": "execute_result"
    }
   ],
   "source": [
    "results4m"
   ]
  },
  {
   "cell_type": "code",
   "execution_count": 50,
   "metadata": {},
   "outputs": [
    {
     "data": {
      "text/plain": [
       "tensor([[100.]], device='cuda:0')"
      ]
     },
     "execution_count": 50,
     "metadata": {},
     "output_type": "execute_result"
    }
   ],
   "source": [
    "L@L.T"
   ]
  }
 ],
 "metadata": {
  "kernelspec": {
   "display_name": "base",
   "language": "python",
   "name": "python3"
  },
  "language_info": {
   "codemirror_mode": {
    "name": "ipython",
    "version": 3
   },
   "file_extension": ".py",
   "mimetype": "text/x-python",
   "name": "python",
   "nbconvert_exporter": "python",
   "pygments_lexer": "ipython3",
   "version": "3.9.12"
  },
  "orig_nbformat": 4
 },
 "nbformat": 4,
 "nbformat_minor": 2
}
